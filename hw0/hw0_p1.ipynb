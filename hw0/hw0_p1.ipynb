{
 "cells": [
  {
   "cell_type": "markdown",
   "metadata": {},
   "source": [
    "It is your first day as a data scientist at your dream company. However, your team recently had a huge turnover of staffs, and many of projects and data files are not trackable. Your boss comes to you and asks:\n",
    "\n",
    "> “Hey, here is a data file I found in our data warehouse, but I don’t know what this is. Can you figure out?”\n",
    "\n",
    "There is no description of the data file and no one to ask. You will read the file (download from [here](https://yubin-park.github.io/cs534/homework/hw0_p1.csv) and see if you find any underlying patterns. Hopefully, such patterns may give a hint for your boss to figure what that is.\n",
    "\n",
    "Find out any patterns in the data, and provide the evidence and Python script for such patterns."
   ]
  },
  {
   "cell_type": "code",
   "execution_count": 7,
   "metadata": {},
   "outputs": [],
   "source": [
    "import pandas as pd"
   ]
  },
  {
   "cell_type": "code",
   "execution_count": 9,
   "metadata": {},
   "outputs": [
    {
     "name": "stdout",
     "output_type": "stream",
     "text": [
      "x1    0.020922\n",
      "x2   -0.077628\n",
      "y     0.171648\n",
      "dtype: float64\n",
      "x1    1.362054\n",
      "x2    1.259781\n",
      "y     3.709894\n",
      "dtype: float64\n"
     ]
    }
   ],
   "source": [
    "data = pd.read_csv('./hw0_p1.csv')\n",
    "print(data.mean(numeric_only=True))\n",
    "print(data.var(numeric_only=True))"
   ]
  }
 ],
 "metadata": {
  "kernelspec": {
   "display_name": "Python 3.10.4 64-bit",
   "language": "python",
   "name": "python3"
  },
  "language_info": {
   "codemirror_mode": {
    "name": "ipython",
    "version": 3
   },
   "file_extension": ".py",
   "mimetype": "text/x-python",
   "name": "python",
   "nbconvert_exporter": "python",
   "pygments_lexer": "ipython3",
   "version": "3.10.4"
  },
  "orig_nbformat": 4,
  "vscode": {
   "interpreter": {
    "hash": "916dbcbb3f70747c44a77c7bcd40155683ae19c65e1c03b4aa3499c5328201f1"
   }
  }
 },
 "nbformat": 4,
 "nbformat_minor": 2
}
